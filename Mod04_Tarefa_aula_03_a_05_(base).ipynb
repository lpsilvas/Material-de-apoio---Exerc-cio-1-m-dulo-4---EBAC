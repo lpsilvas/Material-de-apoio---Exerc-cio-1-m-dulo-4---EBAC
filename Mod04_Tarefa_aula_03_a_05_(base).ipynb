{
 "cells": [
  {
   "cell_type": "markdown",
   "metadata": {
    "id": "njUvbhQmC8-t"
   },
   "source": [
    "## Exercício 1: Vestibular\n",
    "\n",
    "Considere que a os dados gerados na célula abaixo contêm o número de acertos de 100 alunos em um vestibular para um curso de exatas, divididas pelos respectivos assuntos. Considere que cada assunto possui um número de questões conforme a tabela abaixo:\n",
    "\n",
    "| assunto | número de questões |\n",
    "|:---:|:---:|\n",
    "| Matemática | 24 |\n",
    "| Português | 18 |\n",
    "| Geografia | 8 |\n",
    "| Inglês | 8 |\n",
    "| História | 8 |\n",
    "| Física | 12 |\n",
    "| Química | 12 |\n",
    "\n",
    "Usando os comandos de operações com DataFrames que você aprendeu na Aula 03, calcule:\n",
    "\n",
    "1. (operações com escalar) Calcule o percentual de acerto dos alunos por assunto.  \n",
    "2. (operações entre *DataFrames) Calcule o total de acertos de cada aluno.  \n",
    "3. Calcule o porcentual geral de cada aluno.  \n",
    "4. Suponha que a nota de corte para a segunda fase seja 45. Quantos alunos tiveram nota maior que 45?  "
   ]
  },
  {
   "cell_type": "code",
   "execution_count": 75,
   "metadata": {
    "id": "Ll6TadxCC8-y"
   },
   "outputs": [
    {
     "name": "stdout",
     "output_type": "stream",
     "text": [
      "   Qt_acertos  Qt_acertos  Qt_acertos  Qt_acertos  Qt_acertos  Qt_acertos  \\\n",
      "0           6           7           7           3           1           8   \n",
      "1          19          10           0           0           0          11   \n",
      "2          14          16           0           5           7           4   \n",
      "3          10           7           3           4           0           0   \n",
      "4           7           2           2           7           0           9   \n",
      "\n",
      "   Qt_acertos  \n",
      "0           3  \n",
      "1           8  \n",
      "2           4  \n",
      "3           8  \n",
      "4           3  \n"
     ]
    }
   ],
   "source": [
    "import pandas as pd\n",
    "import numpy as np\n",
    "\n",
    "np.random.seed(42)\n",
    "df_mat = pd.DataFrame(np.random.randint(24, size=(100, 1)), columns=['Qt_acertos'])\n",
    "\n",
    "df_por = pd.DataFrame(np.random.randint(18, size=(100, 1)), columns=['Qt_acertos'])\n",
    "\n",
    "df_geo = pd.DataFrame(np.random.randint(8, size=(100, 1)), columns=['Qt_acertos'])\n",
    "\n",
    "df_ing = pd.DataFrame(np.random.randint(8, size=(100, 1)), columns=['Qt_acertos'])\n",
    "\n",
    "df_his = pd.DataFrame(np.random.randint(8, size=(100, 1)), columns=['Qt_acertos'])\n",
    "\n",
    "df_fis = pd.DataFrame(np.random.randint(12, size=(100, 1)), columns=['Qt_acertos'])\n",
    "\n",
    "df_qui = pd.DataFrame(np.random.randint(12, size=(100, 1)), columns=['Qt_acertos'])"
   ]
  },
  {
   "cell_type": "code",
   "execution_count": 64,
   "metadata": {
    "id": "JVmLXiC2C8-0"
   },
   "outputs": [],
   "source": [
    "# (operações com escalar) Calcule o percentual de acerto dos alunos por assunto.\n",
    "# 1) Seu código aqui\n",
    "\n",
    "pa_mat = (df_mat / 24)\n",
    "pa_por = (df_por / 18)\n",
    "pa_geo = (df_geo / 8)\n",
    "pa_ing = (df_ing / 8)\n",
    "pa_his = (df_his / 8)\n",
    "pa_fis = (df_fis / 12)\n",
    "pa_qui = (df_qui / 12)"
   ]
  },
  {
   "cell_type": "code",
   "execution_count": 67,
   "metadata": {
    "id": "JbTwCyNHC8-1"
   },
   "outputs": [
    {
     "name": "stdout",
     "output_type": "stream",
     "text": [
      "    Qt_acertos\n",
      "0           35\n",
      "1           48\n",
      "2           50\n",
      "3           32\n",
      "4           30\n",
      "..         ...\n",
      "95          34\n",
      "96          27\n",
      "97          40\n",
      "98          40\n",
      "99          42\n",
      "\n",
      "[100 rows x 1 columns]\n"
     ]
    }
   ],
   "source": [
    "#(operações entre *DataFrames) Calcule o total de acertos de cada aluno.\n",
    "# 2) Seu código aqui\n",
    "\n",
    "total_acertos = df_mat + df_por + df_geo + df_ing + df_his + df_fis + df_qui\n",
    "print(total_acertos)"
   ]
  },
  {
   "cell_type": "code",
   "execution_count": 68,
   "metadata": {
    "id": "c2L8dJkVC8-3"
   },
   "outputs": [
    {
     "name": "stdout",
     "output_type": "stream",
     "text": [
      "    Qt_acertos\n",
      "0     0.388889\n",
      "1     0.533333\n",
      "2     0.555556\n",
      "3     0.355556\n",
      "4     0.333333\n",
      "..         ...\n",
      "95    0.377778\n",
      "96    0.300000\n",
      "97    0.444444\n",
      "98    0.444444\n",
      "99    0.466667\n",
      "\n",
      "[100 rows x 1 columns]\n"
     ]
    }
   ],
   "source": [
    "#Calcule o porcentual geral de cada aluno.\n",
    "# 3) Seu código aqui\n",
    "\n",
    "media = (total_acertos / 90)\n",
    "print(media)"
   ]
  },
  {
   "cell_type": "code",
   "execution_count": 70,
   "metadata": {
    "id": "PZTZ7DFzC8-3"
   },
   "outputs": [
    {
     "name": "stdout",
     "output_type": "stream",
     "text": [
      "    Qt_acertos\n",
      "1     0.533333\n",
      "2     0.555556\n",
      "5     0.555556\n",
      "7     0.544444\n",
      "8     0.644444\n",
      "11    0.477778\n",
      "12    0.466667\n",
      "17    0.577778\n",
      "18    0.555556\n",
      "20    0.588889\n",
      "24    0.555556\n",
      "27    0.555556\n",
      "29    0.488889\n",
      "31    0.600000\n",
      "34    0.500000\n",
      "35    0.533333\n",
      "36    0.622222\n",
      "37    0.577778\n",
      "39    0.544444\n",
      "40    0.522222\n",
      "42    0.533333\n",
      "44    0.477778\n",
      "45    0.533333\n",
      "48    0.611111\n",
      "50    0.477778\n",
      "51    0.466667\n",
      "52    0.455556\n",
      "53    0.500000\n",
      "55    0.455556\n",
      "60    0.533333\n",
      "62    0.511111\n",
      "67    0.511111\n",
      "68    0.477778\n",
      "70    0.688889\n",
      "71    0.588889\n",
      "72    0.555556\n",
      "75    0.466667\n",
      "77    0.588889\n",
      "78    0.733333\n",
      "80    0.500000\n",
      "81    0.611111\n",
      "82    0.477778\n",
      "83    0.466667\n",
      "88    0.555556\n",
      "89    0.700000\n",
      "93    0.622222\n",
      "99    0.466667\n"
     ]
    },
    {
     "data": {
      "text/plain": [
       "Qt_acertos    47\n",
       "dtype: int64"
      ]
     },
     "execution_count": 70,
     "metadata": {},
     "output_type": "execute_result"
    }
   ],
   "source": [
    "#Suponha que a nota de corte para a segunda fase seja 45. Quantos alunos tiveram nota maior que 45?\n",
    "# 4) Seu código aqui\n",
    "maior45 = media[media['Qt_acertos'] > 0.45]\n",
    "print(maior45)\n",
    "maior45.count()"
   ]
  },
  {
   "cell_type": "markdown",
   "metadata": {
    "id": "Hlfl75XXC8-4"
   },
   "source": [
    "## 2) Vestibular II\n",
    "\n",
    "Ainda sobre o mesmo banco de dados:\n",
    "\n",
    "1. Neste vestibular, quem 'zera' em matemática, física ou química está desqualificado. Monte um novo *DataFrame* com os alunos desqualificados por este critério.\n",
    "2. Quantos são esses alunos?\n",
    "3. Qual a média desses alunos em história e geografia?\n",
    "4. Monte um *DataFrame* com os alunos que passaram para a segunda fase. Repare que estes alunos não podem ter sido desqualificados."
   ]
  },
  {
   "cell_type": "code",
   "execution_count": 80,
   "metadata": {
    "id": "hPaMGXvJC8-4",
    "scrolled": true
   },
   "outputs": [
    {
     "name": "stdout",
     "output_type": "stream",
     "text": [
      "    Qt_acertos\n",
      "0           35\n",
      "1           48\n",
      "2           50\n",
      "4           30\n",
      "5           50\n",
      "..         ...\n",
      "93          56\n",
      "95          34\n",
      "96          27\n",
      "97          40\n",
      "99          42\n",
      "\n",
      "[77 rows x 1 columns]\n"
     ]
    }
   ],
   "source": [
    "#1 Neste vestibular, quem 'zera' em matemática, física ou química está desqualificado. Monte um novo DataFrame com os alunos desqualificados por este critério.\n",
    "#2 Quantos são esses alunos?\n",
    "#3 Qual a média desses alunos em história e geografia?\n",
    "#4 Monte um DataFrame com os alunos que passaram para a segunda fase. Repare que estes alunos não podem ter sido desqualificados.\n",
    "# seu código aqui\n",
    "\n",
    "df_desqualificado = media[(df_mat['Qt_acertos'] == 0) |\n",
    "                          (df_fis['Qt_acertos'] == 0) |\n",
    "                          (df_qui['Qt_acertos'] == 0)]\n",
    "#resposta 1\n",
    "print(df_desqualificado)\n",
    "#resposta 2\n",
    "df_desqualificado.count()\n",
    "#resposta 3\n",
    "alunos_desqualificados = df_desqualificado.index\n",
    "\n",
    "media_geo_desqualificados = df_geo.loc[alunos_desqualificados, 'Qt_acertos']\n",
    "media_his_desqualificados = df_his.loc[alunos_desqualificados, 'Qt_acertos']\n",
    "\n",
    "\n",
    "#resposta 4\n",
    "\n",
    "df_segunda_fase = total_acertos.drop(index=df_desqualificado.index)\n",
    "print(df_segunda_fase)"
   ]
  },
  {
   "cell_type": "markdown",
   "metadata": {
    "id": "EGBUWpAHC8-5"
   },
   "source": [
    "## 3) Vacinações no Acre\n",
    "Vamos trabalhar agora com a base de vacinações no Acre. Para facilitar a sua vida, copiamos o link do arquivo na célula abaixo.\n",
    "\n",
    "1. Quantas vacinas estão registradas nessa base?  \n",
    "2. Quantos pacientes foram vacinados? (considere um paciente para cada valor único de ```paciente_id```)  \n",
    "3. Quantos pacientes únicos tomaram a primeira dose? OBS: Há um caractere especial neste campo. Receba os valores do campo com o método ```.unique()```.   \n",
    "4. Quantos pacientes com menos de 18 anos foram vacinados?  \n",
    "5. Quantos estabelecimentos aplicaram vacina no Acre?\n",
    "\n",
    "\n",
    "**OBS:** O portal do DATASUS pode apresentar instabilidades, retornando um erro na segunda célula abaixo. Por este motivo está disponível uma base estática, que se for baixada para o seu *working directory* pode ser lida com este comando: ```df = pd.read_csv('registros de vacinacao covid ACRE.csv', sep=';')```.\n",
    "\n",
    "**OBS2:** Para saber qual é o seu working directory, rode no jupyter: ```!pwd```."
   ]
  },
  {
   "cell_type": "code",
   "execution_count": 109,
   "metadata": {
    "id": "ET4r139hC8-5"
   },
   "outputs": [],
   "source": [
    "arquivo = 'https://s3.sa-east-1.amazonaws.com/ckan.saude.gov.br/SIPNI/COVID/uf/uf%3DAC/part-00000-aa323d07-9ce0-48f4-b752-7f226d8c71ed.c000.csv'"
   ]
  },
  {
   "cell_type": "code",
   "execution_count": 113,
   "metadata": {
    "id": "SC9YMWLSC8-6"
   },
   "outputs": [
    {
     "data": {
      "text/html": [
       "<div>\n",
       "<style scoped>\n",
       "    .dataframe tbody tr th:only-of-type {\n",
       "        vertical-align: middle;\n",
       "    }\n",
       "\n",
       "    .dataframe tbody tr th {\n",
       "        vertical-align: top;\n",
       "    }\n",
       "\n",
       "    .dataframe thead th {\n",
       "        text-align: right;\n",
       "    }\n",
       "</style>\n",
       "<table border=\"1\" class=\"dataframe\">\n",
       "  <thead>\n",
       "    <tr style=\"text-align: right;\">\n",
       "      <th></th>\n",
       "      <th>document_id</th>\n",
       "      <th>paciente_id</th>\n",
       "      <th>paciente_idade</th>\n",
       "      <th>paciente_dataNascimento</th>\n",
       "      <th>paciente_enumSexoBiologico</th>\n",
       "      <th>paciente_racaCor_codigo</th>\n",
       "      <th>paciente_racaCor_valor</th>\n",
       "      <th>paciente_endereco_coIbgeMunicipio</th>\n",
       "      <th>paciente_endereco_coPais</th>\n",
       "      <th>paciente_endereco_nmMunicipio</th>\n",
       "      <th>...</th>\n",
       "      <th>vacina_categoria_codigo</th>\n",
       "      <th>vacina_categoria_nome</th>\n",
       "      <th>vacina_lote</th>\n",
       "      <th>vacina_fabricante_nome</th>\n",
       "      <th>vacina_fabricante_referencia</th>\n",
       "      <th>vacina_dataAplicacao</th>\n",
       "      <th>vacina_descricao_dose</th>\n",
       "      <th>vacina_codigo</th>\n",
       "      <th>vacina_nome</th>\n",
       "      <th>sistema_origem</th>\n",
       "    </tr>\n",
       "  </thead>\n",
       "  <tbody>\n",
       "    <tr>\n",
       "      <th>0</th>\n",
       "      <td>c4fe1c06-9d03-4fb3-9f09-d03ae04172ed-i0b0</td>\n",
       "      <td>b04dc8dc9a414410e7defb82eedd78ffeba9326ffe2a5e...</td>\n",
       "      <td>14</td>\n",
       "      <td>2007-04-05</td>\n",
       "      <td>F</td>\n",
       "      <td>99</td>\n",
       "      <td>SEM INFORMACAO</td>\n",
       "      <td>120040.0</td>\n",
       "      <td>10.0</td>\n",
       "      <td>RIO BRANCO</td>\n",
       "      <td>...</td>\n",
       "      <td>2.0</td>\n",
       "      <td>Faixa Etária</td>\n",
       "      <td>FA9096</td>\n",
       "      <td>PFIZER</td>\n",
       "      <td>Organization/00394544000851</td>\n",
       "      <td>2021-08-11</td>\n",
       "      <td>1ª Dose</td>\n",
       "      <td>87</td>\n",
       "      <td>COVID-19 PFIZER - COMIRNATY</td>\n",
       "      <td>Novo PNI</td>\n",
       "    </tr>\n",
       "    <tr>\n",
       "      <th>1</th>\n",
       "      <td>5af4b0d7-be0f-4df4-87a8-c13518d4e161-i0b0</td>\n",
       "      <td>dbb25c2d85f3fb2849d4883516b02940f96358ecd86b5b...</td>\n",
       "      <td>23</td>\n",
       "      <td>2000-01-21</td>\n",
       "      <td>F</td>\n",
       "      <td>5</td>\n",
       "      <td>INDIGENA</td>\n",
       "      <td>120042.0</td>\n",
       "      <td>10.0</td>\n",
       "      <td>RODRIGUES ALVES</td>\n",
       "      <td>...</td>\n",
       "      <td>7.0</td>\n",
       "      <td>Povos Indígenas</td>\n",
       "      <td>GF9670</td>\n",
       "      <td>PFIZER</td>\n",
       "      <td>28290</td>\n",
       "      <td>2023-04-17</td>\n",
       "      <td>Reforço</td>\n",
       "      <td>103</td>\n",
       "      <td>COVID-19 PFIZER - COMIRNATY BIVALENTE</td>\n",
       "      <td>Novo PNI</td>\n",
       "    </tr>\n",
       "    <tr>\n",
       "      <th>2</th>\n",
       "      <td>ea959b1f-c617-41f3-9114-3b3d8e6efb74-i0b0</td>\n",
       "      <td>c71ae47ddab9e6bf4268c9d247781644a51f606208aa2f...</td>\n",
       "      <td>17</td>\n",
       "      <td>2003-12-31</td>\n",
       "      <td>F</td>\n",
       "      <td>4</td>\n",
       "      <td>AMARELA</td>\n",
       "      <td>120040.0</td>\n",
       "      <td>10.0</td>\n",
       "      <td>RIO BRANCO</td>\n",
       "      <td>...</td>\n",
       "      <td>2.0</td>\n",
       "      <td>Faixa Etária</td>\n",
       "      <td>FD7208</td>\n",
       "      <td>PFIZER</td>\n",
       "      <td>Organization/00394544000851</td>\n",
       "      <td>2021-09-11</td>\n",
       "      <td>1ª Dose</td>\n",
       "      <td>87</td>\n",
       "      <td>COVID-19 PFIZER - COMIRNATY</td>\n",
       "      <td>Novo PNI</td>\n",
       "    </tr>\n",
       "    <tr>\n",
       "      <th>3</th>\n",
       "      <td>a5178b92-4cb0-4642-9642-496a83a5f0ee-i0b0</td>\n",
       "      <td>152e0231d0451f02a96e068260273002342e622a4bd249...</td>\n",
       "      <td>37</td>\n",
       "      <td>1985-03-23</td>\n",
       "      <td>M</td>\n",
       "      <td>4</td>\n",
       "      <td>AMARELA</td>\n",
       "      <td>120045.0</td>\n",
       "      <td>10.0</td>\n",
       "      <td>SENADOR GUIOMARD</td>\n",
       "      <td>...</td>\n",
       "      <td>2.0</td>\n",
       "      <td>Faixa Etária</td>\n",
       "      <td>21PVCD368Z</td>\n",
       "      <td>ASTRAZENECA/FIOCRUZ</td>\n",
       "      <td>149</td>\n",
       "      <td>2022-07-23</td>\n",
       "      <td>Reforço</td>\n",
       "      <td>85</td>\n",
       "      <td>COVID-19 ASTRAZENECA/FIOCRUZ - COVISHIELD</td>\n",
       "      <td>Novo PNI</td>\n",
       "    </tr>\n",
       "    <tr>\n",
       "      <th>4</th>\n",
       "      <td>f8c190bd-99f5-4426-8660-287026cb8f38-i0b0</td>\n",
       "      <td>146286fb0daf52953daa7aa2fb5b8dffc16a53269530aa...</td>\n",
       "      <td>17</td>\n",
       "      <td>2004-10-30</td>\n",
       "      <td>M</td>\n",
       "      <td>1</td>\n",
       "      <td>BRANCA</td>\n",
       "      <td>120010.0</td>\n",
       "      <td>10.0</td>\n",
       "      <td>BRASILEIA</td>\n",
       "      <td>...</td>\n",
       "      <td>114.0</td>\n",
       "      <td>Outros</td>\n",
       "      <td>21OVCD350Z</td>\n",
       "      <td>ASTRAZENECA/FIOCRUZ</td>\n",
       "      <td>149</td>\n",
       "      <td>2022-06-21</td>\n",
       "      <td>Reforço</td>\n",
       "      <td>85</td>\n",
       "      <td>COVID-19 ASTRAZENECA/FIOCRUZ - COVISHIELD</td>\n",
       "      <td>Novo PNI</td>\n",
       "    </tr>\n",
       "  </tbody>\n",
       "</table>\n",
       "<p>5 rows × 32 columns</p>\n",
       "</div>"
      ],
      "text/plain": [
       "                                 document_id  \\\n",
       "0  c4fe1c06-9d03-4fb3-9f09-d03ae04172ed-i0b0   \n",
       "1  5af4b0d7-be0f-4df4-87a8-c13518d4e161-i0b0   \n",
       "2  ea959b1f-c617-41f3-9114-3b3d8e6efb74-i0b0   \n",
       "3  a5178b92-4cb0-4642-9642-496a83a5f0ee-i0b0   \n",
       "4  f8c190bd-99f5-4426-8660-287026cb8f38-i0b0   \n",
       "\n",
       "                                         paciente_id  paciente_idade  \\\n",
       "0  b04dc8dc9a414410e7defb82eedd78ffeba9326ffe2a5e...              14   \n",
       "1  dbb25c2d85f3fb2849d4883516b02940f96358ecd86b5b...              23   \n",
       "2  c71ae47ddab9e6bf4268c9d247781644a51f606208aa2f...              17   \n",
       "3  152e0231d0451f02a96e068260273002342e622a4bd249...              37   \n",
       "4  146286fb0daf52953daa7aa2fb5b8dffc16a53269530aa...              17   \n",
       "\n",
       "  paciente_dataNascimento paciente_enumSexoBiologico  paciente_racaCor_codigo  \\\n",
       "0              2007-04-05                          F                       99   \n",
       "1              2000-01-21                          F                        5   \n",
       "2              2003-12-31                          F                        4   \n",
       "3              1985-03-23                          M                        4   \n",
       "4              2004-10-30                          M                        1   \n",
       "\n",
       "  paciente_racaCor_valor paciente_endereco_coIbgeMunicipio  \\\n",
       "0         SEM INFORMACAO                          120040.0   \n",
       "1               INDIGENA                          120042.0   \n",
       "2                AMARELA                          120040.0   \n",
       "3                AMARELA                          120045.0   \n",
       "4                 BRANCA                          120010.0   \n",
       "\n",
       "  paciente_endereco_coPais paciente_endereco_nmMunicipio  ...  \\\n",
       "0                     10.0                    RIO BRANCO  ...   \n",
       "1                     10.0               RODRIGUES ALVES  ...   \n",
       "2                     10.0                    RIO BRANCO  ...   \n",
       "3                     10.0              SENADOR GUIOMARD  ...   \n",
       "4                     10.0                     BRASILEIA  ...   \n",
       "\n",
       "  vacina_categoria_codigo vacina_categoria_nome vacina_lote  \\\n",
       "0                     2.0          Faixa Etária      FA9096   \n",
       "1                     7.0       Povos Indígenas      GF9670   \n",
       "2                     2.0          Faixa Etária      FD7208   \n",
       "3                     2.0          Faixa Etária  21PVCD368Z   \n",
       "4                   114.0                Outros  21OVCD350Z   \n",
       "\n",
       "  vacina_fabricante_nome  vacina_fabricante_referencia vacina_dataAplicacao  \\\n",
       "0                 PFIZER   Organization/00394544000851           2021-08-11   \n",
       "1                 PFIZER                         28290           2023-04-17   \n",
       "2                 PFIZER   Organization/00394544000851           2021-09-11   \n",
       "3    ASTRAZENECA/FIOCRUZ                           149           2022-07-23   \n",
       "4    ASTRAZENECA/FIOCRUZ                           149           2022-06-21   \n",
       "\n",
       "  vacina_descricao_dose  vacina_codigo  \\\n",
       "0               1ª Dose             87   \n",
       "1               Reforço            103   \n",
       "2               1ª Dose             87   \n",
       "3               Reforço             85   \n",
       "4               Reforço             85   \n",
       "\n",
       "                                 vacina_nome sistema_origem  \n",
       "0                COVID-19 PFIZER - COMIRNATY       Novo PNI  \n",
       "1      COVID-19 PFIZER - COMIRNATY BIVALENTE       Novo PNI  \n",
       "2                COVID-19 PFIZER - COMIRNATY       Novo PNI  \n",
       "3  COVID-19 ASTRAZENECA/FIOCRUZ - COVISHIELD       Novo PNI  \n",
       "4  COVID-19 ASTRAZENECA/FIOCRUZ - COVISHIELD       Novo PNI  \n",
       "\n",
       "[5 rows x 32 columns]"
      ]
     },
     "execution_count": 113,
     "metadata": {},
     "output_type": "execute_result"
    }
   ],
   "source": [
    "#Quantas vacinas estão registradas nessa base?\n",
    "\n",
    "# 1) Sua solução aqui\n",
    "\n",
    "df = pd.read_csv('dados_acre_covid.csv', sep=';', )\n",
    "\n",
    "df.head()\n",
    "#df.shape[0]\n",
    "\n"
   ]
  },
  {
   "cell_type": "code",
   "execution_count": 112,
   "metadata": {
    "id": "PMztY1RlC8-7"
   },
   "outputs": [
    {
     "data": {
      "text/plain": [
       "314797"
      ]
     },
     "execution_count": 112,
     "metadata": {},
     "output_type": "execute_result"
    }
   ],
   "source": [
    "#Quantos pacientes foram vacinados? (considere um paciente para cada valor único de paciente_id)\n",
    "# 2)\n",
    "df['paciente_id'].unique()\n"
   ]
  },
  {
   "cell_type": "code",
   "execution_count": 147,
   "metadata": {
    "id": "V_wr--3JC8-7"
   },
   "outputs": [
    {
     "data": {
      "text/plain": [
       "142985"
      ]
     },
     "execution_count": 147,
     "metadata": {},
     "output_type": "execute_result"
    }
   ],
   "source": [
    "#Quantos pacientes únicos tomaram a primeira dose? OBS: Há um caractere especial neste campo. Receba os valores do campo com o método .unique().\n",
    "# 3)\n",
    "\n",
    "df['fl_paciente_unico'] = 1\n",
    "df['primeira_dose'] = 0\n",
    "df.loc[df['vacina_descricao_dose'] == '1ª Dose', 'primeira_dose'] = 1\n",
    "df[['fl_paciente_unico', 'primeira_dose']]\n",
    "df['primeira_dose'].sum()"
   ]
  },
  {
   "cell_type": "code",
   "execution_count": null,
   "metadata": {
    "id": "SPHgIxtcC8-7"
   },
   "outputs": [],
   "source": [
    "# 3) solução alternativa\n"
   ]
  },
  {
   "cell_type": "code",
   "execution_count": 153,
   "metadata": {
    "id": "S6ab9ExEC8-7"
   },
   "outputs": [
    {
     "data": {
      "text/plain": [
       "75699"
      ]
     },
     "execution_count": 153,
     "metadata": {},
     "output_type": "execute_result"
    }
   ],
   "source": [
    "#Quantos pacientes com menos de 18 anos foram vacinados?\n",
    "# 4)\n",
    "df[['fl_paciente_unico', 'paciente_idade']]\n",
    "df['menor_idade'] = 0\n",
    "ate_18 = 18\n",
    "df[df['paciente_idade'] < ate_18] = 1\n",
    "df['menor_idade'].sum()"
   ]
  },
  {
   "cell_type": "code",
   "execution_count": null,
   "metadata": {
    "id": "PVrY_-qlC8-8"
   },
   "outputs": [],
   "source": [
    "#Quantos estabelecimentos aplicaram vacina no Acre?\n",
    "# 5)\n",
    "# NÃO TEM A COLUNA NESSA VERSÃO DA TABELA"
   ]
  },
  {
   "cell_type": "markdown",
   "metadata": {
    "id": "LH1LSYvGC8-8"
   },
   "source": [
    "## 4) Vacinação II\n",
    "Gere um *DataFrame* que contenha somente os estabelecimentos que aplicaram vcinas a menores de 18 anos. Nesse *DataFrame* devem conter somente os dados dos estabelecimentos, mais uma coluna sendo a quantidade de vacinas que o estabelecimento aplicou a menores de 18 anos.  \n",
    "  \n",
    "1. crie uma cópia do *DataFrame* original, contendo somente os registros de vacinas realizadas a menores de 18 anos.  \n",
    "2. crie uma lista das colunas desse *DataFrame* com o atributo de *DataFrame* **.columns()**  \n",
    "3. Nesse *DataFrame* faça uma contagem do campo ```vacina_categoria_nome```.\n",
    "3. a partir da lista de colunas, escolha somente aquelas que são referentes ao estabelecimento, faça uma lista com esses valores.  \n",
    "4. usando o método *.loc*, selecione somente essas variáveis  \n",
    "5. Aplique o método **.drop_duplicates** e crie uma lista com uma linha para cada estabelecimento, com os dados do estabelecimento  "
   ]
  },
  {
   "cell_type": "code",
   "execution_count": null,
   "metadata": {
    "id": "3ojs12vUC8-8"
   },
   "outputs": [],
   "source": [
    "# 1)\n",
    "# NÃO TEM A COLUNA ESTABELECIMENTO NESSA VERSÃO DA TABELA"
   ]
  },
  {
   "cell_type": "code",
   "execution_count": null,
   "metadata": {
    "id": "sLyevPRBC8-8"
   },
   "outputs": [],
   "source": [
    "# 2)\n"
   ]
  },
  {
   "cell_type": "code",
   "execution_count": null,
   "metadata": {
    "id": "lZAW-Dp8C8-8"
   },
   "outputs": [],
   "source": [
    "# 3)\n"
   ]
  },
  {
   "cell_type": "code",
   "execution_count": null,
   "metadata": {
    "id": "xxYsxrxAC8-8"
   },
   "outputs": [],
   "source": [
    "# 4)\n"
   ]
  },
  {
   "cell_type": "code",
   "execution_count": null,
   "metadata": {
    "id": "vaX2x_0rC8-8"
   },
   "outputs": [],
   "source": [
    "# 5)\n"
   ]
  }
 ],
 "metadata": {
  "colab": {
   "provenance": []
  },
  "kernelspec": {
   "display_name": "Python 3 (ipykernel)",
   "language": "python",
   "name": "python3"
  },
  "language_info": {
   "codemirror_mode": {
    "name": "ipython",
    "version": 3
   },
   "file_extension": ".py",
   "mimetype": "text/x-python",
   "name": "python",
   "nbconvert_exporter": "python",
   "pygments_lexer": "ipython3",
   "version": "3.9.13"
  },
  "toc": {
   "base_numbering": 1,
   "nav_menu": {},
   "number_sections": false,
   "sideBar": true,
   "skip_h1_title": true,
   "title_cell": "Índice",
   "title_sidebar": "Conteúdo",
   "toc_cell": false,
   "toc_position": {},
   "toc_section_display": true,
   "toc_window_display": false
  },
  "varInspector": {
   "cols": {
    "lenName": 16,
    "lenType": 16,
    "lenVar": 40
   },
   "kernels_config": {
    "python": {
     "delete_cmd_postfix": "",
     "delete_cmd_prefix": "del ",
     "library": "var_list.py",
     "varRefreshCmd": "print(var_dic_list())"
    },
    "r": {
     "delete_cmd_postfix": ") ",
     "delete_cmd_prefix": "rm(",
     "library": "var_list.r",
     "varRefreshCmd": "cat(var_dic_list()) "
    }
   },
   "types_to_exclude": [
    "module",
    "function",
    "builtin_function_or_method",
    "instance",
    "_Feature"
   ],
   "window_display": false
  }
 },
 "nbformat": 4,
 "nbformat_minor": 1
}
